{
 "cells": [
  {
   "cell_type": "markdown",
   "id": "9bd55e4c-bb21-4e41-8322-cc24252d409d",
   "metadata": {},
   "source": [
    "# ML Lab Endsem"
   ]
  },
  {
   "cell_type": "code",
   "execution_count": 1,
   "id": "f5adefb0-f434-463f-9347-cd1ca74a39dd",
   "metadata": {},
   "outputs": [],
   "source": [
    "import numpy as np\n",
    "import pandas as pd\n",
    "import matplotlib.pyplot as plt"
   ]
  },
  {
   "cell_type": "markdown",
   "id": "42ad4485-1434-453d-8152-037c7d4dd28b",
   "metadata": {},
   "source": [
    "### Simple Linear Rgression "
   ]
  },
  {
   "cell_type": "code",
   "execution_count": 2,
   "id": "bfec3517-4da1-4ac4-938c-186b3688780a",
   "metadata": {},
   "outputs": [
    {
     "name": "stdout",
     "output_type": "stream",
     "text": [
      "Calculus Method\n",
      "B0 intercept : 3.0 \n",
      "B1 slope : 2.0\n",
      "RMSE : 0.0\n",
      "Predicted values : [ 5.  7.  9. 11. 13.]\n"
     ]
    }
   ],
   "source": [
    "x = np.array([1, 2, 3, 4, 5])  \n",
    "y = np.array([5, 7, 9, 11, 13]) \n",
    "\n",
    "x_mean = np.mean(x)\n",
    "y_mean = np.mean(y)\n",
    "n = len(x)  \n",
    "\n",
    "B1 = np.sum((x - x_mean) * (y - y_mean)) / np.sum((x - x_mean) ** 2)\n",
    "B0 = y_mean - B1 * x_mean\n",
    "\n",
    "y_pred_calc = B1 * x + B0\n",
    "\n",
    "mse = np.mean((y-y_pred_calc)**2)\n",
    "rmse = np.sqrt (mse)\n",
    "\n",
    "\n",
    "print(f'Calculus Method\\nB0 intercept : {B0} \\nB1 slope : {B1}\\nRMSE : {rmse}')\n",
    "print(f'Predicted values : {y_pred_calc}')"
   ]
  },
  {
   "cell_type": "markdown",
   "id": "b4efeb4e",
   "metadata": {},
   "source": [
    "### Multiple Linear Regression"
   ]
  },
  {
   "cell_type": "code",
   "execution_count": 3,
   "id": "f2018228",
   "metadata": {},
   "outputs": [
    {
     "name": "stdout",
     "output_type": "stream",
     "text": [
      "B0 intercept : 3.0000000000000084\n",
      "B1 slope (for feature X1) : 2.0000000000000004\n",
      "RMSE : 9.985590539369011e-15\n",
      "Predicted values : [ 5.  7.  9. 11. 13.]\n"
     ]
    }
   ],
   "source": [
    "X = np.array([[1, 2], [2, 3], [3, 4], [4, 5], [5, 6]])  \n",
    "y = np.array([5, 7, 9, 11, 13])  \n",
    "\n",
    "X = np.c_[np.ones(X.shape[0]), X[:, 0]] \n",
    "\n",
    "# B = (X^T * X)^-1 * X^T * y  -->  Importanat\n",
    "B = np.linalg.inv(X.T.dot(X)).dot(X.T).dot(y)\n",
    "\n",
    "B0 = B[0]  \n",
    "B_rest = B[1:]  \n",
    "\n",
    "y_pred_calc = X.dot(B)\n",
    "\n",
    "rmse_calc = np.sqrt(((y - y_pred_calc) ** 2).mean())\n",
    "\n",
    "print(f'B0 intercept : {B0}')\n",
    "\n",
    "for i, coef in enumerate(B_rest):\n",
    "    print(f'B{i+1} slope (for feature X{i+1}) : {coef}')\n",
    "\n",
    "print(f'RMSE : {rmse_calc}')\n",
    "print(f'Predicted values : {y_pred_calc}')"
   ]
  },
  {
   "cell_type": "markdown",
   "id": "efdef1ad-3f08-4969-bca4-86fa2482f18a",
   "metadata": {},
   "source": [
    "### Polynomial Regression"
   ]
  },
  {
   "cell_type": "code",
   "execution_count": 4,
   "id": "7d42387d-b64e-406f-b9a3-d9db4afc47bd",
   "metadata": {},
   "outputs": [
    {
     "name": "stdout",
     "output_type": "stream",
     "text": [
      "Intercept (B0): -5.684341886080802e-14\n",
      "Coefficients (B1, B2, ...): [7.01660952e-14 1.00000000e+00]\n",
      "Predicted values: [ 1.  4.  9. 16. 25.]\n",
      "MSE: 2.443427628592877e-27\n",
      "RMSE: 4.943103912111172e-14\n"
     ]
    }
   ],
   "source": [
    "x = np.array([1, 2, 3, 4, 5])  \n",
    "y = np.array([1, 4, 9, 16, 25])\n",
    "\n",
    "degree = 2\n",
    "X_poly = np.array([x**i for i in range(degree+1)]).T\n",
    "\n",
    "B = np.linalg.inv(X_poly.T.dot(X_poly)).dot(X_poly.T).dot(y)\n",
    "\n",
    "B0 = B[0]\n",
    "B1 = B[1:]\n",
    "\n",
    "y_pred = X_poly.dot(B)\n",
    "\n",
    "mse = np.mean((y-y_pred)**2)\n",
    "rmse = np.sqrt(mse)\n",
    "\n",
    "print(f\"Intercept (B0): {B0}\")\n",
    "print(f\"Coefficients (B1, B2, ...): {B1}\")\n",
    "print(f\"Predicted values: {y_pred}\")\n",
    "print(f\"MSE: {mse}\")\n",
    "print(f\"RMSE: {rmse}\")"
   ]
  },
  {
   "cell_type": "markdown",
   "id": "b5db44fc",
   "metadata": {},
   "source": [
    "### Logistic Regression and Gradient Descent"
   ]
  },
  {
   "cell_type": "code",
   "execution_count": 5,
   "id": "07beaea8",
   "metadata": {},
   "outputs": [
    {
     "name": "stdout",
     "output_type": "stream",
     "text": [
      "B0 intercept : -3.6652656746306485 \n",
      "B1 slope : -17.152090029546965\n",
      "Predicted probabilities: [-20.8173557  -37.96944573 -55.12153576 -72.27362579 -89.42571582]\n",
      "Predicted classes: [0 0 0 0 0]\n"
     ]
    }
   ],
   "source": [
    "X = np.array([1, 2, 3, 4, 5])  \n",
    "y = np.array([0, 0, 0, 1, 1])\n",
    "\n",
    "def sigmoid(z):\n",
    "    return 1/(1+np.exp(-z))\n",
    "\n",
    "B0 = 0\n",
    "B1 = 0\n",
    "learning_rate=0.01\n",
    "threshold = 0.5\n",
    "n = len(X)\n",
    "epochs = 1000\n",
    "\n",
    "for epoch in range(epochs):\n",
    "    z = B0 + B1*X\n",
    "    y_pred = sigmoid(z)\n",
    "\n",
    "    gradient_b0 = (1/n) * np.sum(y-y_pred)\n",
    "    gradient_b1 = (1/n) * np.sum((y-y_pred)*X)\n",
    "\n",
    "    B0 -= learning_rate * gradient_b0\n",
    "    B1 -= learning_rate * gradient_b1\n",
    "\n",
    "y_pred = B0 + B1*x\n",
    "y_pred_class = (y_pred  >= threshold).astype(int)\n",
    "\n",
    "print(f'B0 intercept : {B0} \\nB1 slope : {B1}')\n",
    "print(f'Predicted probabilities: {y_pred}')\n",
    "print(f'Predicted classes: {y_pred_class}')"
   ]
  },
  {
   "cell_type": "markdown",
   "id": "db40499a",
   "metadata": {},
   "source": [
    "### Cost Function"
   ]
  },
  {
   "cell_type": "code",
   "execution_count": 6,
   "id": "b14a0de7",
   "metadata": {},
   "outputs": [
    {
     "name": "stdout",
     "output_type": "stream",
     "text": [
      "Cost:32.30586832322698\n"
     ]
    }
   ],
   "source": [
    "X = np.array([1, 2, 3, 4, 5])  \n",
    "y = np.array([0, 0, 0, 1, 1])\n",
    "\n",
    "def sigmoid(z):\n",
    "    return 1/(1+np.exp(-z))\n",
    "\n",
    "B0 = 0\n",
    "B1 = 0\n",
    "learning_rate=0.01\n",
    "threshold = 0.5\n",
    "n = len(X)\n",
    "epochs = 1000\n",
    "\n",
    "def cost_function(y,y_pred):\n",
    "    return -(1/n) * np.sum(y * np.log(y_pred) + (1 - y) * np.log(1 - y_pred))\n",
    "\n",
    "for epoch in range(epochs):\n",
    "    z = B0 + B1*X\n",
    "    y_pred = sigmoid(z)\n",
    "\n",
    "    gradient_b0 = (1/n) * np.sum(y-y_pred)\n",
    "    gradient_b1 = (1/n) * np.sum((y-y_pred)*X)\n",
    "\n",
    "    B0 -= learning_rate * gradient_b0\n",
    "    B1 -= learning_rate * gradient_b1\n",
    "\n",
    "    cost = cost_function(y,y_pred)\n",
    "\n",
    "print(f'Cost:{cost}')\n"
   ]
  },
  {
   "cell_type": "markdown",
   "id": "d30c57ff",
   "metadata": {},
   "source": [
    "### Naive Bayes"
   ]
  },
  {
   "cell_type": "code",
   "execution_count": 16,
   "id": "3668da13",
   "metadata": {},
   "outputs": [
    {
     "name": "stdout",
     "output_type": "stream",
     "text": [
      "Predicted classes: [0 0 1 1 1]\n"
     ]
    }
   ],
   "source": [
    "import numpy as np\n",
    "\n",
    "X = np.array([[1, 20], [2, 21], [3, 22], [4, 23], [5, 24]])\n",
    "y = np.array([0, 0, 1, 1, 1])\n",
    "\n",
    "class0 = X[y == 0]\n",
    "class1 = X[y == 1]\n",
    "\n",
    "mean0, var0 = class0.mean(axis=0), class0.var(axis=0)\n",
    "mean1, var1 = class1.mean(axis=0), class1.var(axis=0)\n",
    "\n",
    "def gaussian(x, mean, var):\n",
    "    return (1 / np.sqrt(2 * np.pi * var)) * np.exp(-((x - mean) ** 2) / (2 * var))\n",
    "\n",
    "def predict(X):\n",
    "    predictions = []\n",
    "    for x in X:\n",
    "        p0 = np.log(1/len(X)) + np.sum(np.log(gaussian(x, mean0, var0)))\n",
    "        p1 = np.log(1/len(X)) + np.sum(np.log(gaussian(x, mean1, var1)))\n",
    "        predictions.append(0 if p0 > p1 else 1)\n",
    "    return np.array(predictions)\n",
    "\n",
    "y_pred = predict(X)\n",
    "print(\"Predicted classes:\", y_pred)"
   ]
  },
  {
   "cell_type": "markdown",
   "id": "0fb8bff4-92d0-4a08-9389-a37af50a01e8",
   "metadata": {},
   "source": [
    "### SVM"
   ]
  },
  {
   "cell_type": "code",
   "execution_count": 19,
   "id": "820fe066",
   "metadata": {},
   "outputs": [
    {
     "name": "stdout",
     "output_type": "stream",
     "text": [
      "Weights: [ 1.89054606 -0.19521501]\n",
      "Bias: 3.7199999999999647\n"
     ]
    }
   ],
   "source": [
    "X = np.array([[1, 2], [2, 3], [3, 4], [5, 6], [6, 7]])\n",
    "y = np.array([-1, -1, 1, 1, 1])\n",
    "\n",
    "def svm(X, y, learning_rate=0.01, epochs=1000, lambda_param=0.01):\n",
    "    n, m = X.shape\n",
    "    w = np.zeros(m)\n",
    "    b = 0\n",
    "    \n",
    "    for epoch in range(epochs):\n",
    "        for i, x in enumerate(X):\n",
    "            condition = y[i] * (np.dot(w, x) - b) >= 1\n",
    "            if condition:\n",
    "                w -= learning_rate * (2 * lambda_param * w)\n",
    "            else:\n",
    "                w -= learning_rate * (2 * lambda_param * w - np.dot(x, y[i]))\n",
    "                b -= learning_rate * y[i]\n",
    "                \n",
    "    return w, b\n",
    "\n",
    "w, b = svm(X, y)\n",
    "print(\"Weights:\", w)\n",
    "print(\"Bias:\", b)"
   ]
  },
  {
   "cell_type": "markdown",
   "id": "e9ebb87f-c47d-4388-af81-a33f1b1a486f",
   "metadata": {},
   "source": [
    "### KNN "
   ]
  },
  {
   "cell_type": "code",
   "execution_count": 17,
   "id": "bf3b958b-e34b-4b5d-8e59-71dd61dcf34e",
   "metadata": {},
   "outputs": [
    {
     "name": "stdout",
     "output_type": "stream",
     "text": [
      "Predicted class: [0]\n"
     ]
    }
   ],
   "source": [
    "def euclidean_distance(x1, x2):\n",
    "    return np.sqrt(np.sum((x1 - x2) ** 2))\n",
    "\n",
    "def knn(X_train, y_train, X_test, k=3):\n",
    "    y_pred = []\n",
    "    for test_point in X_test:\n",
    "        distances = [euclidean_distance(test_point, x) for x in X_train]\n",
    "        k_neighbors = np.argsort(distances)[:k]\n",
    "        k_labels = [y_train[i] for i in k_neighbors]\n",
    "        y_pred.append(np.bincount(k_labels).argmax())\n",
    "    return np.array(y_pred)\n",
    "\n",
    "X_train = np.array([[1, 2], [2, 3], [3, 4], [6, 7], [7, 8]])\n",
    "y_train = np.array([0, 0, 0, 1, 1])\n",
    "X_test = np.array([[4, 5]])\n",
    "\n",
    "print(\"Predicted class:\", knn(X_train, y_train, X_test))"
   ]
  },
  {
   "cell_type": "markdown",
   "id": "742c9fc3-6be7-4f97-9c94-87fb093aee2b",
   "metadata": {},
   "source": [
    "### K-Means"
   ]
  },
  {
   "cell_type": "code",
   "execution_count": 18,
   "id": "15c69f55-956b-4d0c-8784-80681ebf4b99",
   "metadata": {},
   "outputs": [
    {
     "name": "stdout",
     "output_type": "stream",
     "text": [
      "Centroids: [[2 3]\n",
      " [8 9]]\n",
      "Clusters: [[array([1, 2]), array([2, 3]), array([3, 4])], [array([8, 9]), array([ 9, 10])]]\n"
     ]
    }
   ],
   "source": [
    "def kmeans(X, k=2, epochs=10):\n",
    "    centroids = X[np.random.choice(range(X.shape[0]), k, replace=False)]\n",
    "    \n",
    "    for epoch in range(epochs):\n",
    "        clusters = [[] for _ in range(k)]\n",
    "        \n",
    "        for x in X:\n",
    "            distances = [np.linalg.norm(x - centroid) for centroid in centroids]\n",
    "            cluster = np.argmin(distances)\n",
    "            clusters[cluster].append(x)\n",
    "        \n",
    "        for i in range(k):\n",
    "            centroids[i] = np.mean(clusters[i], axis=0) if clusters[i] else centroids[i]\n",
    "    \n",
    "    return centroids, clusters\n",
    "\n",
    "X = np.array([[1, 2], [2, 3], [3, 4], [8, 9], [9, 10]])\n",
    "centroids, clusters = kmeans(X)\n",
    "print(\"Centroids:\", centroids)\n",
    "print(\"Clusters:\", clusters)"
   ]
  },
  {
   "cell_type": "markdown",
   "id": "f9c8b394-6c46-4c4a-bd9d-84ec27e73e4f",
   "metadata": {},
   "source": [
    "### Decison Tree "
   ]
  },
  {
   "cell_type": "code",
   "execution_count": 20,
   "id": "36f2b5bc-d4c3-4243-b71c-6e90ca9bc574",
   "metadata": {},
   "outputs": [
    {
     "name": "stdout",
     "output_type": "stream",
     "text": [
      "Predictions: [0, 0, 0, 1, 1]\n"
     ]
    }
   ],
   "source": [
    "from collections import Counter\n",
    "import numpy as np\n",
    "\n",
    "def entropy(y):\n",
    "    hist = np.bincount(y)\n",
    "    ps = hist / len(y)\n",
    "    return -np.sum([p * np.log2(p) for p in ps if p > 0])\n",
    "\n",
    "def information_gain(X, y, feature):\n",
    "    unique_vals = np.unique(X[:, feature])\n",
    "    weighted_entropy = 0\n",
    "    for val in unique_vals:\n",
    "        subset_y = y[X[:, feature] == val]\n",
    "        weighted_entropy += len(subset_y) / len(y) * entropy(subset_y)\n",
    "    return entropy(y) - weighted_entropy\n",
    "\n",
    "def best_feature_to_split(X, y):\n",
    "    return np.argmax([information_gain(X, y, i) for i in range(X.shape[1])])\n",
    "\n",
    "class Node:\n",
    "    def __init__(self, feature=None, threshold=None, left=None, right=None, value=None):\n",
    "        self.feature = feature\n",
    "        self.threshold = threshold\n",
    "        self.left = left\n",
    "        self.right = right\n",
    "        self.value = value\n",
    "\n",
    "def build_tree(X, y):\n",
    "    if len(set(y)) == 1:\n",
    "        return Node(value=y[0])\n",
    "    \n",
    "    feature = best_feature_to_split(X, y)\n",
    "    thresholds = np.unique(X[:, feature])\n",
    "    \n",
    "    if len(thresholds) == 1:\n",
    "        return Node(value=Counter(y).most_common(1)[0][0])\n",
    "    \n",
    "    threshold = thresholds[len(thresholds) // 2]\n",
    "    left_idx, right_idx = X[:, feature] <= threshold, X[:, feature] > threshold\n",
    "    left, right = build_tree(X[left_idx], y[left_idx]), build_tree(X[right_idx], y[right_idx])\n",
    "    \n",
    "    return Node(feature, threshold, left, right)\n",
    "\n",
    "def predict_tree(node, x):\n",
    "    if node.value is not None:\n",
    "        return node.value\n",
    "    if x[node.feature] <= node.threshold:\n",
    "        return predict_tree(node.left, x)\n",
    "    return predict_tree(node.right, x)\n",
    "\n",
    "# Example\n",
    "X = np.array([[2, 3], [3, 2], [1, 1], [6, 5], [7, 8]])\n",
    "y = np.array([0, 0, 0, 1, 1])\n",
    "\n",
    "tree = build_tree(X, y)\n",
    "predictions = [predict_tree(tree, x) for x in X]\n",
    "print(\"Predictions:\", predictions)"
   ]
  },
  {
   "cell_type": "code",
   "execution_count": null,
   "id": "b20e1706-c71e-48df-824e-313914ea1372",
   "metadata": {},
   "outputs": [],
   "source": []
  }
 ],
 "metadata": {
  "kernelspec": {
   "display_name": "Python 3 (ipykernel)",
   "language": "python",
   "name": "python3"
  },
  "language_info": {
   "codemirror_mode": {
    "name": "ipython",
    "version": 3
   },
   "file_extension": ".py",
   "mimetype": "text/x-python",
   "name": "python",
   "nbconvert_exporter": "python",
   "pygments_lexer": "ipython3",
   "version": "3.12.4"
  }
 },
 "nbformat": 4,
 "nbformat_minor": 5
}
