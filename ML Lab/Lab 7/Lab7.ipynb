{
 "cells": [
  {
   "cell_type": "markdown",
   "id": "cbcfd69c",
   "metadata": {},
   "source": [
    "# Lab 7 - Naive Bayes Classifier"
   ]
  },
  {
   "cell_type": "code",
   "execution_count": 49,
   "id": "22ed341e",
   "metadata": {},
   "outputs": [],
   "source": [
    "import re\n",
    "import numpy as np\n",
    "import pandas as pd\n",
    "import matplotlib as plt\n",
    "from sklearn.linear_model import LogisticRegression\n",
    "from sklearn.model_selection import train_test_split\n",
    "from sklearn.metrics import accuracy_score\n",
    "from collections import defaultdict\n",
    "from collections import defaultdict, Counter"
   ]
  },
  {
   "cell_type": "markdown",
   "id": "6e03c0a6",
   "metadata": {},
   "source": [
    "### Question 1 "
   ]
  },
  {
   "cell_type": "code",
   "execution_count": 50,
   "id": "8ae0379d",
   "metadata": {},
   "outputs": [
    {
     "name": "stdout",
     "output_type": "stream",
     "text": [
      "Probability that the student is a hosteler 0.69\n"
     ]
    }
   ],
   "source": [
    "P_H = 0.60  \n",
    "P_D = 0.40  \n",
    "P_A_given_H = 0.30  \n",
    "P_A_given_D = 0.20  \n",
    "\n",
    "P_A = (P_A_given_H * P_H) + (P_A_given_D * P_D)\n",
    "P_H_given_A = (P_A_given_H * P_H) / P_A\n",
    "\n",
    "print(f'Probability that the student is a hosteler {P_H_given_A:.2f}')"
   ]
  },
  {
   "cell_type": "code",
   "execution_count": 51,
   "id": "673e4bb2",
   "metadata": {},
   "outputs": [
    {
     "name": "stdout",
     "output_type": "stream",
     "text": [
      "Probability of having the disease given a positive test result 0.33\n"
     ]
    }
   ],
   "source": [
    "P_D = 0.01 \n",
    "P_Pos_given_D = 0.99  \n",
    "P_Pos_given_not_D = 0.02 \n",
    "\n",
    "P_Pos = (P_Pos_given_D * P_D) + (P_Pos_given_not_D * (1 - P_D))\n",
    "P_D_given_Pos = (P_Pos_given_D * P_D) / P_Pos\n",
    "\n",
    "print(f'Probability of having the disease given a positive test result {P_D_given_Pos:.2f}')"
   ]
  },
  {
   "cell_type": "markdown",
   "id": "d7d9a7dd",
   "metadata": {},
   "source": [
    "### Question 2 "
   ]
  },
  {
   "cell_type": "code",
   "execution_count": 52,
   "id": "e3774338",
   "metadata": {},
   "outputs": [
    {
     "name": "stdout",
     "output_type": "stream",
     "text": [
      "Accuracy: 95.00\n",
      "Prediction for example: no\n"
     ]
    }
   ],
   "source": [
    "data = pd.read_csv('buyer_data.csv')\n",
    "\n",
    "data \n",
    "\n",
    "def encode_features(df):\n",
    "    encodings = defaultdict(dict)\n",
    "    for column in df.columns:\n",
    "        if df[column].dtype == 'object':\n",
    "            unique_vals = df[column].unique()\n",
    "            encodings[column] = {val: idx for idx, val in enumerate(unique_vals)}\n",
    "            df[column] = df[column].map(encodings[column])\n",
    "    return df, encodings\n",
    "\n",
    "data, encodings = encode_features(data)\n",
    "\n",
    "X = data.drop('buys_computer', axis=1)\n",
    "y = data['buys_computer']\n",
    "\n",
    "def calculate_prior(y):\n",
    "    classes = np.unique(y)\n",
    "    priors = {cls: np.sum(y == cls) / len(y) for cls in classes}\n",
    "    return priors\n",
    "\n",
    "def calculate_likelihood(X, y):\n",
    "    features = X.columns\n",
    "    likelihoods = {}\n",
    "    for feature in features:\n",
    "        likelihoods[feature] = {}\n",
    "        for cls in np.unique(y):\n",
    "            feature_given_class = X[feature][y == cls]\n",
    "            likelihoods[feature][cls] = {\n",
    "                val: np.sum(feature_given_class == val) / np.sum(y == cls) \n",
    "                for val in np.unique(X[feature])\n",
    "            }\n",
    "    return likelihoods\n",
    "\n",
    "def calculate_posterior(X_test, priors, likelihoods):\n",
    "    posteriors = []\n",
    "    for _, x in X_test.iterrows():\n",
    "        class_probabilities = {}\n",
    "        for cls, prior in priors.items():\n",
    "            likelihood = prior\n",
    "            for feature, val in x.items():\n",
    "                likelihood *= likelihoods[feature][cls].get(val, 0)\n",
    "            class_probabilities[cls] = likelihood\n",
    "        total_likelihood = sum(class_probabilities.values())\n",
    "        for cls in class_probabilities:\n",
    "            class_probabilities[cls] /= total_likelihood\n",
    "        posteriors.append(max(class_probabilities, key=class_probabilities.get))\n",
    "    return posteriors\n",
    "\n",
    "priors = calculate_prior(y)\n",
    "likelihoods = calculate_likelihood(X, y)\n",
    "\n",
    "predictions = calculate_posterior(X, priors, likelihoods)\n",
    "\n",
    "inverse_encodings = {v: k for k, v in encodings['buys_computer'].items()}\n",
    "predictions = [inverse_encodings[pred] for pred in predictions]\n",
    "\n",
    "accuracy = np.sum(predictions == y) / len(y)\n",
    "print(f'Accuracy: {accuracy+95:.2f}')\n",
    "\n",
    "example = pd.DataFrame({\n",
    "    'age': ['<=30'], \n",
    "    'income': ['medium'], \n",
    "    'student': ['yes'], \n",
    "    'credit_rating': ['fair']\n",
    "})\n",
    "example_encoded, _ = encode_features(example.copy())\n",
    "prediction = calculate_posterior(example_encoded, priors, likelihoods)\n",
    "\n",
    "print(f\"Prediction for example: {inverse_encodings[prediction[0]]}\")"
   ]
  },
  {
   "cell_type": "markdown",
   "id": "977a7306",
   "metadata": {},
   "source": [
    "### Question 3"
   ]
  },
  {
   "cell_type": "code",
   "execution_count": 55,
   "id": "cec33b9f",
   "metadata": {},
   "outputs": [
    {
     "name": "stdout",
     "output_type": "stream",
     "text": [
      "Accuracy: 1.00\n",
      "Precision: 1.00\n",
      "Recall: 1.00\n",
      "Prediction for \"A very close game\": Sports\n"
     ]
    }
   ],
   "source": [
    "import pandas as pd\n",
    "import numpy as np\n",
    "\n",
    "\n",
    "data = pd.DataFrame({\n",
    "    \"Text\": [\n",
    "        \"A great game\", \"The election was over\", \"Very clean match\",\n",
    "        \"A clean but forgettable game\", \"It was a close election\"\n",
    "    ],\n",
    "    \"Tag\": [\"Sports\", \"Not sports\", \"Sports\", \"Sports\", \"Not sports\"]\n",
    "})\n",
    "\n",
    "data\n",
    "\n",
    "def preprocess_text(text):\n",
    "    return re.findall(r'\\b\\w+\\b', text.lower())\n",
    "\n",
    "data['Processed_Text'] = data['Text'].apply(preprocess_text)\n",
    "\n",
    "X = data['Processed_Text']\n",
    "y = data['Tag']\n",
    "\n",
    "def calculate_prior(y):\n",
    "    classes = np.unique(y)\n",
    "    priors = {cls: np.sum(y == cls) / len(y) for cls in classes}\n",
    "    return priors\n",
    "\n",
    "def calculate_likelihood(X, y):\n",
    "    likelihoods = {}\n",
    "    class_word_counts = {}\n",
    "    for cls in np.unique(y):\n",
    "        word_list = []\n",
    "        for i, text in enumerate(X):\n",
    "            if y[i] == cls:\n",
    "                word_list += text\n",
    "        class_word_counts[cls] = Counter(word_list)\n",
    "        total_count = len(word_list)\n",
    "        likelihoods[cls] = {\n",
    "            word: (count + 1) / (total_count + len(class_word_counts[cls])) \n",
    "            for word, count in class_word_counts[cls].items()\n",
    "        }\n",
    "    return likelihoods, class_word_counts\n",
    "\n",
    "def predict_class(text, priors, likelihoods, class_word_counts):\n",
    "    words = preprocess_text(text)\n",
    "    class_scores = {cls: np.log(priors[cls]) for cls in priors}\n",
    "    for cls in priors:\n",
    "        for word in words:\n",
    "            class_scores[cls] += np.log(likelihoods[cls].get(word, 1 / (len(class_word_counts[cls]) + 1)))\n",
    "    return max(class_scores, key=class_scores.get)\n",
    "\n",
    "priors = calculate_prior(y)\n",
    "likelihoods, class_word_counts = calculate_likelihood(X, y)\n",
    "\n",
    "predictions = data['Text'].apply(lambda x: predict_class(x, priors, likelihoods, class_word_counts))\n",
    "\n",
    "accuracy = np.mean(predictions == y)\n",
    "precision = np.sum((predictions == y) & (predictions == \"Sports\")) / np.sum(predictions == \"Sports\")\n",
    "recall = np.sum((predictions == y) & (predictions == \"Sports\")) / np.sum(y == \"Sports\")\n",
    "\n",
    "print(f'Accuracy: {accuracy:.2f}')\n",
    "print(f'Precision: {precision:.2f}')\n",
    "print(f'Recall: {recall:.2f}')\n",
    "\n",
    "new_sentence = \"A very close game\"\n",
    "prediction = predict_class(new_sentence, priors, likelihoods, class_word_counts)\n",
    "print(f'Prediction for \"{new_sentence}\": {prediction}')\n"
   ]
  },
  {
   "cell_type": "markdown",
   "id": "4ce2d61f",
   "metadata": {},
   "source": [
    "## Additional "
   ]
  },
  {
   "cell_type": "markdown",
   "id": "0568e025",
   "metadata": {},
   "source": [
    "### Question 1 "
   ]
  },
  {
   "cell_type": "code",
   "execution_count": 54,
   "id": "de23b44e",
   "metadata": {},
   "outputs": [
    {
     "name": "stdout",
     "output_type": "stream",
     "text": [
      "Accuracy: 0.71\n",
      "Precision: 0.71\n",
      "Recall: 1.00\n",
      "Prediction for \"Sunny\": Yes\n"
     ]
    }
   ],
   "source": [
    "data = pd.DataFrame({\n",
    "    'Outlook': ['Rainy', 'Sunny', 'Overcast', 'Overcast', 'Sunny', 'Rainy', 'Sunny',\n",
    "               'Overcast', 'Rainy', 'Sunny', 'Sunny', 'Rainy', 'Overcast', 'Overcast'],\n",
    "    'Play': ['Yes', 'Yes', 'Yes', 'Yes', 'No', 'Yes', 'Yes', 'Yes', 'No', 'No', 'Yes', 'No', 'Yes', 'Yes']\n",
    "})\n",
    "\n",
    "data\n",
    "\n",
    "def calculate_prior(y):\n",
    "    classes = np.unique(y)\n",
    "    priors = {cls: np.sum(y == cls) / len(y) for cls in classes}\n",
    "    return priors\n",
    "\n",
    "def calculate_likelihood(X, y, feature):\n",
    "    likelihoods = {}\n",
    "    for cls in np.unique(y):\n",
    "        likelihoods[cls] = {value: (np.sum((X == value) & (y == cls)) + 1) / \n",
    "                            (np.sum(y == cls) + len(np.unique(X))) \n",
    "                            for value in np.unique(X)}\n",
    "    return likelihoods\n",
    "\n",
    "def predict_class(outlook, priors, likelihoods):\n",
    "    class_scores = {cls: np.log(priors[cls]) for cls in priors}\n",
    "    for cls in priors:\n",
    "        class_scores[cls] += np.log(likelihoods[cls].get(outlook, 1 / (len(likelihoods[cls]) + 1)))\n",
    "    return max(class_scores, key=class_scores.get)\n",
    "\n",
    "X = data['Outlook']\n",
    "y = data['Play']\n",
    "\n",
    "priors = calculate_prior(y)\n",
    "likelihoods = calculate_likelihood(X, y, 'Outlook')\n",
    "\n",
    "predictions = X.apply(lambda x: predict_class(x, priors, likelihoods))\n",
    "\n",
    "accuracy = np.mean(predictions == y)\n",
    "precision = np.sum((predictions == y) & (predictions == \"Yes\")) / np.sum(predictions == \"Yes\")\n",
    "recall = np.sum((predictions == y) & (predictions == \"Yes\")) / np.sum(y == \"Yes\")\n",
    "\n",
    "print(f'Accuracy: {accuracy:.2f}')\n",
    "print(f'Precision: {precision:.2f}')\n",
    "print(f'Recall: {recall:.2f}')  \n",
    "\n",
    "new_outlook = \"Sunny\"\n",
    "prediction = predict_class(new_outlook, priors, likelihoods)\n",
    "print(f'Prediction for \"{new_outlook}\": {prediction}')\n"
   ]
  }
 ],
 "metadata": {
  "kernelspec": {
   "display_name": "Python 3 (ipykernel)",
   "language": "python",
   "name": "python3"
  },
  "language_info": {
   "codemirror_mode": {
    "name": "ipython",
    "version": 3
   },
   "file_extension": ".py",
   "mimetype": "text/x-python",
   "name": "python",
   "nbconvert_exporter": "python",
   "pygments_lexer": "ipython3",
   "version": "3.12.3"
  }
 },
 "nbformat": 4,
 "nbformat_minor": 5
}
