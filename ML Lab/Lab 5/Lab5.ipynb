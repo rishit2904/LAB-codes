{
 "cells": [
  {
   "cell_type": "markdown",
   "id": "3da4cdeb",
   "metadata": {},
   "source": [
    "# Lab 5 - Logistic Regression and Stochastic Gradient Descent (SGD)"
   ]
  },
  {
   "cell_type": "code",
   "execution_count": 146,
   "id": "9dab9db0",
   "metadata": {},
   "outputs": [],
   "source": [
    "import numpy as np\n",
    "import pandas as pd\n",
    "import matplotlib.pyplot as plt\n",
    "from sklearn.linear_model import LinearRegression\n",
    "from sklearn.preprocessing import StandardScaler\n",
    "from sklearn.linear_model import LogisticRegression\n",
    "from sklearn.metrics import accuracy_score\n",
    "from sklearn.metrics import mean_squared_error,root_mean_squared_error"
   ]
  },
  {
   "cell_type": "markdown",
   "id": "219a74f3",
   "metadata": {},
   "source": [
    "### Question 1 "
   ]
  },
  {
   "cell_type": "code",
   "execution_count": 147,
   "id": "cd68e40a",
   "metadata": {},
   "outputs": [
    {
     "data": {
      "text/html": [
       "<div>\n",
       "<style scoped>\n",
       "    .dataframe tbody tr th:only-of-type {\n",
       "        vertical-align: middle;\n",
       "    }\n",
       "\n",
       "    .dataframe tbody tr th {\n",
       "        vertical-align: top;\n",
       "    }\n",
       "\n",
       "    .dataframe thead th {\n",
       "        text-align: right;\n",
       "    }\n",
       "</style>\n",
       "<table border=\"1\" class=\"dataframe\">\n",
       "  <thead>\n",
       "    <tr style=\"text-align: right;\">\n",
       "      <th></th>\n",
       "      <th>mother_height</th>\n",
       "      <th>daughter_height</th>\n",
       "    </tr>\n",
       "  </thead>\n",
       "  <tbody>\n",
       "    <tr>\n",
       "      <th>0</th>\n",
       "      <td>58</td>\n",
       "      <td>60</td>\n",
       "    </tr>\n",
       "    <tr>\n",
       "      <th>1</th>\n",
       "      <td>62</td>\n",
       "      <td>60</td>\n",
       "    </tr>\n",
       "    <tr>\n",
       "      <th>2</th>\n",
       "      <td>60</td>\n",
       "      <td>58</td>\n",
       "    </tr>\n",
       "    <tr>\n",
       "      <th>3</th>\n",
       "      <td>64</td>\n",
       "      <td>60</td>\n",
       "    </tr>\n",
       "    <tr>\n",
       "      <th>4</th>\n",
       "      <td>67</td>\n",
       "      <td>70</td>\n",
       "    </tr>\n",
       "    <tr>\n",
       "      <th>5</th>\n",
       "      <td>70</td>\n",
       "      <td>72</td>\n",
       "    </tr>\n",
       "  </tbody>\n",
       "</table>\n",
       "</div>"
      ],
      "text/plain": [
       "   mother_height  daughter_height\n",
       "0             58               60\n",
       "1             62               60\n",
       "2             60               58\n",
       "3             64               60\n",
       "4             67               70\n",
       "5             70               72"
      ]
     },
     "execution_count": 147,
     "metadata": {},
     "output_type": "execute_result"
    }
   ],
   "source": [
    "df = pd.read_csv('data1.csv')\n",
    "df"
   ]
  },
  {
   "cell_type": "code",
   "execution_count": 148,
   "id": "6c4f0258",
   "metadata": {},
   "outputs": [],
   "source": [
    "Y = df[\"daughter_height\"].values\n",
    "X = df[\"mother_height\"].values\n",
    "\n",
    "b1 = 0\n",
    "b0 = 0\n",
    "L = 0.0001\n",
    "epochs = 4"
   ]
  },
  {
   "cell_type": "code",
   "execution_count": 149,
   "id": "67fe45d1",
   "metadata": {},
   "outputs": [
    {
     "name": "stdout",
     "output_type": "stream",
     "text": [
      "Gradient Descent coefficients: b0 = 0.016406249586034958, b1 = 1.0149205396744159\n"
     ]
    }
   ],
   "source": [
    "for i in range(epochs): \n",
    "    for j in range(len(X)):\n",
    "        Y_pred = b0 + b1 * X[j]\n",
    "        err = Y_pred - Y[j]\n",
    "        b0 = b0 - L * err\n",
    "        b1 = b1 - L * err * X[j]\n",
    "\n",
    "print(f\"Gradient Descent coefficients: b0 = {b0}, b1 = {b1}\")"
   ]
  },
  {
   "cell_type": "code",
   "execution_count": 150,
   "id": "23dd0225",
   "metadata": {},
   "outputs": [
    {
     "name": "stdout",
     "output_type": "stream",
     "text": [
      "Gradient Descent RMSE: 2.8258418347410132\n",
      "Gradient Descent MSE: 7.985382074972457\n"
     ]
    }
   ],
   "source": [
    "Y_Pred = b0 + b1 * X\n",
    "\n",
    "mse = mean_squared_error(Y, Y_Pred)\n",
    "rmse = np.sqrt(mse)\n",
    "print(f'Gradient Descent RMSE: {rmse}')\n",
    "print(f'Gradient Descent MSE: {mse}')"
   ]
  },
  {
   "cell_type": "code",
   "execution_count": 151,
   "id": "b5aaa516",
   "metadata": {},
   "outputs": [
    {
     "name": "stdout",
     "output_type": "stream",
     "text": [
      "Sklearn coefficients: 1.2060301507537687, -13.249581239530976\n"
     ]
    }
   ],
   "source": [
    "model = LinearRegression()\n",
    "model.fit(X.reshape(-1, 1), Y)\n",
    "y_pred = model.predict(X.reshape(-1, 1))\n",
    "\n",
    "print(f'Sklearn coefficients: {model.coef_[0]}, {model.intercept_}')"
   ]
  },
  {
   "cell_type": "code",
   "execution_count": 152,
   "id": "e8f930a5",
   "metadata": {},
   "outputs": [
    {
     "name": "stdout",
     "output_type": "stream",
     "text": [
      "Sklearn RMSE: 2.470145584200829\n",
      "Sklearn MSE: 6.101619207146855\n"
     ]
    }
   ],
   "source": [
    "sklearn_mse = mean_squared_error(Y, y_pred)\n",
    "sklearn_rmse = np.sqrt(sklearn_mse)\n",
    "print(f'Sklearn RMSE: {sklearn_rmse}')\n",
    "print(f'Sklearn MSE: {sklearn_mse}')"
   ]
  },
  {
   "cell_type": "code",
   "execution_count": 153,
   "id": "6cbe4f86",
   "metadata": {},
   "outputs": [
    {
     "data": {
      "image/png": "[encoded data removed]",
      "text/plain": [
       "<Figure size 640x480 with 1 Axes>"
      ]
     },
     "metadata": {},
     "output_type": "display_data"
    }
   ],
   "source": [
    "plt.scatter(X, Y, color=\"red\", label=\"Actual Data\")\n",
    "plt.plot(X, Y_Pred, color=\"blue\", label=\"My Model (Gradient Descent)\")\n",
    "plt.plot(X, y_pred, color=\"green\", label=\"Sklearn Model\")\n",
    "plt.legend()\n",
    "plt.xlabel(\"Mother Height\")\n",
    "plt.ylabel(\"Daughter Height\")\n",
    "plt.title(\"Linear Regression Fit\")\n",
    "plt.show()"
   ]
  },
  {
   "cell_type": "markdown",
   "id": "e310dd39",
   "metadata": {},
   "source": [
    "### Question 2"
   ]
  },
  {
   "cell_type": "code",
   "execution_count": 154,
   "id": "1dd19f2c",
   "metadata": {},
   "outputs": [
    {
     "data": {
      "text/html": [
       "<div>\n",
       "<style scoped>\n",
       "    .dataframe tbody tr th:only-of-type {\n",
       "        vertical-align: middle;\n",
       "    }\n",
       "\n",
       "    .dataframe tbody tr th {\n",
       "        vertical-align: top;\n",
       "    }\n",
       "\n",
       "    .dataframe thead th {\n",
       "        text-align: right;\n",
       "    }\n",
       "</style>\n",
       "<table border=\"1\" class=\"dataframe\">\n",
       "  <thead>\n",
       "    <tr style=\"text-align: right;\">\n",
       "      <th></th>\n",
       "      <th>Hours</th>\n",
       "      <th>Pass</th>\n",
       "    </tr>\n",
       "  </thead>\n",
       "  <tbody>\n",
       "    <tr>\n",
       "      <th>0</th>\n",
       "      <td>1</td>\n",
       "      <td>0</td>\n",
       "    </tr>\n",
       "    <tr>\n",
       "      <th>1</th>\n",
       "      <td>2</td>\n",
       "      <td>0</td>\n",
       "    </tr>\n",
       "    <tr>\n",
       "      <th>2</th>\n",
       "      <td>3</td>\n",
       "      <td>0</td>\n",
       "    </tr>\n",
       "    <tr>\n",
       "      <th>3</th>\n",
       "      <td>4</td>\n",
       "      <td>0</td>\n",
       "    </tr>\n",
       "    <tr>\n",
       "      <th>4</th>\n",
       "      <td>5</td>\n",
       "      <td>1</td>\n",
       "    </tr>\n",
       "    <tr>\n",
       "      <th>5</th>\n",
       "      <td>6</td>\n",
       "      <td>1</td>\n",
       "    </tr>\n",
       "    <tr>\n",
       "      <th>6</th>\n",
       "      <td>7</td>\n",
       "      <td>1</td>\n",
       "    </tr>\n",
       "    <tr>\n",
       "      <th>7</th>\n",
       "      <td>8</td>\n",
       "      <td>1</td>\n",
       "    </tr>\n",
       "  </tbody>\n",
       "</table>\n",
       "</div>"
      ],
      "text/plain": [
       "   Hours   Pass \n",
       "0       1      0\n",
       "1       2      0\n",
       "2       3      0\n",
       "3       4      0\n",
       "4       5      1\n",
       "5       6      1\n",
       "6       7      1\n",
       "7       8      1"
      ]
     },
     "execution_count": 154,
     "metadata": {},
     "output_type": "execute_result"
    }
   ],
   "source": [
    "df1 = pd.read_csv('study_data.csv')\n",
    "df1"
   ]
  },
  {
   "cell_type": "code",
   "execution_count": 155,
   "id": "925b0ce0",
   "metadata": {},
   "outputs": [],
   "source": [
    "X = df1[\"Hours \"].values\n",
    "Y = df1[\"Pass \"].values\n",
    "\n",
    "X = np.array(X)\n",
    "Y = np.array(Y)"
   ]
  },
  {
   "cell_type": "code",
   "execution_count": 156,
   "id": "d9dcf5bf",
   "metadata": {},
   "outputs": [],
   "source": [
    "def sigmoid(x):\n",
    "    return 1 / (1 + np.exp(-x))\n",
    "\n",
    "def compute_loss(y_true, y_pred):\n",
    "    epsilon = 1e-9\n",
    "    y1 = y_true * np.log(y_pred + epsilon)\n",
    "    y2 = (1-y_true) * np.log(1 - y_pred + epsilon)\n",
    "    return -np.mean(y1 + y2)"
   ]
  },
  {
   "cell_type": "code",
   "execution_count": 157,
   "id": "677961e4",
   "metadata": {},
   "outputs": [],
   "source": [
    "b1 = 0\n",
    "b0 = 0\n",
    "L = 0.01\n",
    "log = []\n",
    "for _ in range(100):\n",
    "    errors = sigmoid(b0 + b1 * X) - Y\n",
    "    b0 -= L * np.sum(errors) / len(X)\n",
    "    b1 -= L * np.sum(errors * X) / len(X)\n",
    "    y_p = sigmoid(b0+b1*X)\n",
    "    loss = compute_loss(Y, y_p)\n",
    "    log.append(loss)\n",
    "\n",
    "Y_pred_sigmoid = sigmoid(b0 + b1 * X)"
   ]
  },
  {
   "cell_type": "code",
   "execution_count": 158,
   "id": "7e61a18a",
   "metadata": {},
   "outputs": [
    {
     "name": "stdout",
     "output_type": "stream",
     "text": [
      "RMSE: 0.4510558770397197\n",
      "MSE: 0.20345140421207075\n"
     ]
    }
   ],
   "source": [
    "rmse = root_mean_squared_error(Y, Y_pred_sigmoid)\n",
    "mse = mean_squared_error(Y, Y_pred_sigmoid)\n",
    "print(f'RMSE: {rmse}')\n",
    "print(f'MSE: {mse}')"
   ]
  },
  {
   "cell_type": "code",
   "execution_count": 159,
   "id": "40db8ad3",
   "metadata": {},
   "outputs": [
    {
     "name": "stdout",
     "output_type": "stream",
     "text": [
      "Accuracy: 50.00%\n"
     ]
    }
   ],
   "source": [
    "final = [1 if i > 0.5 else 0 for i in Y_pred_sigmoid]\n",
    "accuracy = np.mean(final == Y)\n",
    "print(f'Accuracy: {accuracy * 100:.2f}%')"
   ]
  },
  {
   "cell_type": "code",
   "execution_count": 160,
   "id": "0447e1ae",
   "metadata": {},
   "outputs": [
    {
     "name": "stdout",
     "output_type": "stream",
     "text": [
      "1 1\n"
     ]
    }
   ],
   "source": [
    "pred1 = round(sigmoid(b0+b1*3.5))\n",
    "pred2 = round(sigmoid(b0+b1*7.5))\n",
    "print(pred1, pred2)"
   ]
  },
  {
   "cell_type": "code",
   "execution_count": 161,
   "id": "a4099874",
   "metadata": {},
   "outputs": [
    {
     "name": "stderr",
     "output_type": "stream",
     "text": [
      "/usr/lib/python3/dist-packages/sklearn/utils/validation.py:1300: DataConversionWarning: A column-vector y was passed when a 1d array was expected. Please change the shape of y to (n_samples, ), for example using ravel().\n",
      "  y = column_or_1d(y, warn=True)\n"
     ]
    }
   ],
   "source": [
    "model = LogisticRegression()\n",
    "X = X.reshape(-1, 1)\n",
    "Y = Y.reshape(-1, 1)\n",
    "model.fit(X, Y)\n",
    "y_pred = model.predict(X)"
   ]
  },
  {
   "cell_type": "code",
   "execution_count": 162,
   "id": "7a6ca66f",
   "metadata": {},
   "outputs": [
    {
     "name": "stdout",
     "output_type": "stream",
     "text": [
      "sklearn= 1.1697993675705605 -5.264107913297968\n",
      "self= 0.19189134519589263 -0.14142270761996786\n"
     ]
    }
   ],
   "source": [
    "print(\"sklearn=\", model.coef_[0][0], model.intercept_[0])\n",
    "print(\"self=\", b1, b0)"
   ]
  },
  {
   "cell_type": "code",
   "execution_count": 163,
   "id": "a89c5b74",
   "metadata": {},
   "outputs": [
    {
     "data": {
      "image/png": "[encoded data removed]",
      "text/plain": [
       "<Figure size 640x480 with 1 Axes>"
      ]
     },
     "metadata": {},
     "output_type": "display_data"
    }
   ],
   "source": [
    "plt.plot(range(100), log, color=\"green\", label=\"error vs epoch\")\n",
    "plt.legend()\n",
    "plt.show()"
   ]
  },
  {
   "cell_type": "markdown",
   "id": "8e4f7f3f",
   "metadata": {},
   "source": [
    "### Question 3"
   ]
  },
  {
   "cell_type": "code",
   "execution_count": 164,
   "id": "8bd68b80",
   "metadata": {},
   "outputs": [
    {
     "data": {
      "text/html": [
       "<div>\n",
       "<style scoped>\n",
       "    .dataframe tbody tr th:only-of-type {\n",
       "        vertical-align: middle;\n",
       "    }\n",
       "\n",
       "    .dataframe tbody tr th {\n",
       "        vertical-align: top;\n",
       "    }\n",
       "\n",
       "    .dataframe thead th {\n",
       "        text-align: right;\n",
       "    }\n",
       "</style>\n",
       "<table border=\"1\" class=\"dataframe\">\n",
       "  <thead>\n",
       "    <tr style=\"text-align: right;\">\n",
       "      <th></th>\n",
       "      <th>x1</th>\n",
       "      <th>x2</th>\n",
       "      <th>y</th>\n",
       "    </tr>\n",
       "  </thead>\n",
       "  <tbody>\n",
       "    <tr>\n",
       "      <th>0</th>\n",
       "      <td>4</td>\n",
       "      <td>1</td>\n",
       "      <td>2</td>\n",
       "    </tr>\n",
       "    <tr>\n",
       "      <th>1</th>\n",
       "      <td>2</td>\n",
       "      <td>8</td>\n",
       "      <td>-14</td>\n",
       "    </tr>\n",
       "    <tr>\n",
       "      <th>2</th>\n",
       "      <td>1</td>\n",
       "      <td>0</td>\n",
       "      <td>1</td>\n",
       "    </tr>\n",
       "    <tr>\n",
       "      <th>3</th>\n",
       "      <td>3</td>\n",
       "      <td>2</td>\n",
       "      <td>-1</td>\n",
       "    </tr>\n",
       "    <tr>\n",
       "      <th>4</th>\n",
       "      <td>1</td>\n",
       "      <td>4</td>\n",
       "      <td>-7</td>\n",
       "    </tr>\n",
       "    <tr>\n",
       "      <th>5</th>\n",
       "      <td>6</td>\n",
       "      <td>7</td>\n",
       "      <td>-8</td>\n",
       "    </tr>\n",
       "  </tbody>\n",
       "</table>\n",
       "</div>"
      ],
      "text/plain": [
       "   x1   x2   y\n",
       "0   4    1   2\n",
       "1   2    8 -14\n",
       "2   1    0   1\n",
       "3   3    2  -1\n",
       "4   1    4  -7\n",
       "5   6    7  -8"
      ]
     },
     "execution_count": 164,
     "metadata": {},
     "output_type": "execute_result"
    }
   ],
   "source": [
    "file = pd.read_csv(\"features.csv\")\n",
    "file"
   ]
  },
  {
   "cell_type": "code",
   "execution_count": 165,
   "id": "85b54b98",
   "metadata": {},
   "outputs": [],
   "source": [
    "X1 = file[\"x1\"]\n",
    "X2 = file[\" x2\"]\n",
    "Y = file[\" y\"]\n",
    "X2 = np.array(X2)\n",
    "X1 = np.array(X1)\n",
    "Y = np.array(Y)\n",
    "Y = np.array([1 if i > 0 else 0 for i in Y])"
   ]
  },
  {
   "cell_type": "code",
   "execution_count": 166,
   "id": "4c39e870",
   "metadata": {},
   "outputs": [
    {
     "name": "stdout",
     "output_type": "stream",
     "text": [
      "0.3892026246576094 0.6064264963109737 -1.4956509693830584\n"
     ]
    }
   ],
   "source": [
    "b1 = 0\n",
    "b2 = 0\n",
    "b0 = 0\n",
    "L = 0.01\n",
    "log = []\n",
    "for _ in range(1000):\n",
    "    errors = sigmoid(b0 + b1 * X1 + b2 * X2) - Y\n",
    "    b0 -= L * np.sum(errors) / len(X1)\n",
    "    b1 -= L * np.sum(errors * X1) / len(X1)\n",
    "    b2 -= L * np.sum(errors * X2) / len(X2)\n",
    "    y_p = sigmoid(b0+b1*X1+b2*X2)\n",
    "    loss = compute_loss(Y, y_p)\n",
    "    log.append(loss)\n",
    "\n",
    "Y_pred_sigmoid = sigmoid(b0 + b1 * X1 + b2 * X2)\n",
    "print(b0, b1, b2)"
   ]
  },
  {
   "cell_type": "code",
   "execution_count": 167,
   "id": "3aa95980",
   "metadata": {},
   "outputs": [
    {
     "name": "stdout",
     "output_type": "stream",
     "text": [
      "RMSE: 0.1896283214828599\n",
      "MSE: 0.03595890030840687\n"
     ]
    }
   ],
   "source": [
    "rmse = root_mean_squared_error(Y, Y_pred_sigmoid)\n",
    "mse = mean_squared_error(Y, Y_pred_sigmoid)\n",
    "print(f'RMSE: {rmse}')\n",
    "print(f'MSE: {mse}')"
   ]
  },
  {
   "cell_type": "code",
   "execution_count": 168,
   "id": "bf2c4d9b",
   "metadata": {},
   "outputs": [
    {
     "data": {
      "image/png": "[encoded data removed]",
      "text/plain": [
       "<Figure size 640x480 with 1 Axes>"
      ]
     },
     "metadata": {},
     "output_type": "display_data"
    }
   ],
   "source": [
    "plt.plot(range(1000), log, color=\"green\", label=\"error vs epoch\")\n",
    "plt.legend()\n",
    "plt.show()"
   ]
  },
  {
   "cell_type": "code",
   "execution_count": 169,
   "id": "d3e65bf9",
   "metadata": {},
   "outputs": [
    {
     "name": "stdout",
     "output_type": "stream",
     "text": [
      "Accuracy: 100.00%\n"
     ]
    }
   ],
   "source": [
    "final = [1 if i > 0.5 else 0 for i in Y_pred_sigmoid]\n",
    "accuracy = np.mean(final == Y)\n",
    "print(f'Accuracy: {accuracy * 100:.2f}%')"
   ]
  }
 ],
 "metadata": {
  "kernelspec": {
   "display_name": "Python 3 (ipykernel)",
   "language": "python",
   "name": "python3"
  },
  "language_info": {
   "codemirror_mode": {
    "name": "ipython",
    "version": 3
   },
   "file_extension": ".py",
   "mimetype": "text/x-python",
   "name": "python",
   "nbconvert_exporter": "python",
   "pygments_lexer": "ipython3",
   "version": "3.12.3"
  }
 },
 "nbformat": 4,
 "nbformat_minor": 5
}
