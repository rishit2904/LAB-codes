{
 "cells": [
  {
   "cell_type": "markdown",
   "id": "9bd55e4c-bb21-4e41-8322-cc24252d409d",
   "metadata": {},
   "source": [
    "# ML"
   ]
  },
  {
   "cell_type": "code",
   "execution_count": 2,
   "id": "f5adefb0-f434-463f-9347-cd1ca74a39dd",
   "metadata": {},
   "outputs": [],
   "source": [
    "import numpy as np\n",
    "import pandas as pd\n",
    "import matplotlib.pyplot as plt"
   ]
  },
  {
   "cell_type": "markdown",
   "id": "42ad4485-1434-453d-8152-037c7d4dd28b",
   "metadata": {},
   "source": [
    "### Simple Linear Rgression "
   ]
  },
  {
   "cell_type": "code",
   "execution_count": 3,
   "id": "bfec3517-4da1-4ac4-938c-186b3688780a",
   "metadata": {},
   "outputs": [
    {
     "name": "stdout",
     "output_type": "stream",
     "text": [
      "Calculus Method\n",
      "B0 intercept : 3.0 \n",
      "B1 slope : 2.0\n",
      "RMSE : 0.0\n",
      "Predicted values : [ 5.  7.  9. 11. 13.]\n"
     ]
    }
   ],
   "source": [
    "x = np.array([1, 2, 3, 4, 5])  \n",
    "y = np.array([5, 7, 9, 11, 13]) \n",
    "\n",
    "x_mean = np.mean(x)\n",
    "y_mean = np.mean(y)\n",
    "n = len(x)  \n",
    "\n",
    "B1 = np.sum((x - x_mean) * (y - y_mean)) / np.sum((x - x_mean) ** 2)\n",
    "B0 = y_mean - B1 * x_mean\n",
    "\n",
    "y_pred_calc = B1 * x + B0\n",
    "\n",
    "mse = np.mean((y-y_pred_calc)**2)\n",
    "rmse = np.sqrt (mse)\n",
    "\n",
    "\n",
    "print(f'Calculus Method\\nB0 intercept : {B0} \\nB1 slope : {B1}\\nRMSE : {rmse}')\n",
    "print(f'Predicted values : {y_pred_calc}')"
   ]
  },
  {
   "cell_type": "markdown",
   "id": "b4efeb4e",
   "metadata": {},
   "source": [
    "### Multiple Linear Regression"
   ]
  },
  {
   "cell_type": "code",
   "execution_count": 10,
   "id": "f2018228",
   "metadata": {},
   "outputs": [
    {
     "name": "stdout",
     "output_type": "stream",
     "text": [
      "B0 intercept : 3.0000000000000084\n",
      "B1 slope (for feature X1) : 2.0000000000000004\n",
      "RMSE : 9.985590539369011e-15\n",
      "Predicted values : [ 5.  7.  9. 11. 13.]\n"
     ]
    }
   ],
   "source": [
    "X = np.array([[1, 2], [2, 3], [3, 4], [4, 5], [5, 6]])  \n",
    "y = np.array([5, 7, 9, 11, 13])  \n",
    "\n",
    "X = np.c_[np.ones(X.shape[0]), X[:, 0]] \n",
    "\n",
    "# B = (X^T * X)^-1 * X^T * y  -->  Importanat\n",
    "B = np.linalg.inv(X.T.dot(X)).dot(X.T).dot(y)\n",
    "\n",
    "B0 = B[0]  \n",
    "B_rest = B[1:]  \n",
    "\n",
    "y_pred_calc = X.dot(B)\n",
    "\n",
    "rmse_calc = np.sqrt(((y - y_pred_calc) ** 2).mean())\n",
    "\n",
    "print(f'B0 intercept : {B0}')\n",
    "\n",
    "for i, coef in enumerate(B_rest):\n",
    "    print(f'B{i+1} slope (for feature X{i+1}) : {coef}')\n",
    "\n",
    "print(f'RMSE : {rmse_calc}')\n",
    "print(f'Predicted values : {y_pred_calc}')"
   ]
  },
  {
   "cell_type": "markdown",
   "id": "efdef1ad-3f08-4969-bca4-86fa2482f18a",
   "metadata": {},
   "source": [
    "### Polynomial Regression"
   ]
  },
  {
   "cell_type": "code",
   "execution_count": 3,
   "id": "7d42387d-b64e-406f-b9a3-d9db4afc47bd",
   "metadata": {},
   "outputs": [
    {
     "name": "stdout",
     "output_type": "stream",
     "text": [
      "Intercept (B0): -5.684341886080802e-14\n",
      "Coefficients (B1, B2, ...): [7.01660952e-14 1.00000000e+00]\n",
      "Predicted values: [ 1.  4.  9. 16. 25.]\n",
      "MSE: 2.443427628592877e-27\n",
      "RMSE: 4.943103912111172e-14\n"
     ]
    }
   ],
   "source": [
    "x = np.array([1, 2, 3, 4, 5])  \n",
    "y = np.array([1, 4, 9, 16, 25])\n",
    "\n",
    "degree = 2\n",
    "X_poly = np.array([x**i for i in range(degree+1)]).T\n",
    "\n",
    "B = np.linalg.inv(X_poly.T.dot(X_poly)).dot(X_poly.T).dot(y)\n",
    "\n",
    "B0 = B[0]\n",
    "B1 = B[1:]\n",
    "\n",
    "y_pred = X_poly.dot(B)\n",
    "\n",
    "mse = np.mean((y-y_pred)**2)\n",
    "rmse = np.sqrt(mse)\n",
    "\n",
    "print(f\"Intercept (B0): {B0}\")\n",
    "print(f\"Coefficients (B1, B2, ...): {B1}\")\n",
    "print(f\"Predicted values: {y_pred}\")\n",
    "print(f\"MSE: {mse}\")\n",
    "print(f\"RMSE: {rmse}\")"
   ]
  },
  {
   "cell_type": "markdown",
   "id": "b5db44fc",
   "metadata": {},
   "source": [
    "### Logistic Regression and Gradient Descent"
   ]
  },
  {
   "cell_type": "code",
   "execution_count": 5,
   "id": "07beaea8",
   "metadata": {},
   "outputs": [
    {
     "name": "stdout",
     "output_type": "stream",
     "text": [
      "B0 intercept : -3.6652656746306485 \n",
      "B1 slope : -17.152090029546965\n",
      "Predicted probabilities: [-20.8173557  -37.96944573 -55.12153576 -72.27362579 -89.42571582]\n",
      "Predicted classes: [0 0 0 0 0]\n"
     ]
    }
   ],
   "source": [
    "X = np.array([1, 2, 3, 4, 5])  \n",
    "y = np.array([0, 0, 0, 1, 1])\n",
    "\n",
    "def sigmoid(z):\n",
    "    return 1/(1+np.exp(-z))\n",
    "\n",
    "B0 = 0\n",
    "B1 = 0\n",
    "learning_rate=0.01\n",
    "threshold = 0.5\n",
    "n = len(X)\n",
    "epochs = 1000\n",
    "\n",
    "for epoch in range(epochs):\n",
    "    z = B0 + B1*X\n",
    "    y_pred = sigmoid(z)\n",
    "\n",
    "    gradient_b0 = (1/n) * np.sum(y-y_pred)\n",
    "    gradient_b1 = (1/n) * np.sum((y-y_pred)*X)\n",
    "\n",
    "    B0 -= learning_rate * gradient_b0\n",
    "    B1 -= learning_rate * gradient_b1\n",
    "\n",
    "y_pred = B0 + B1*x\n",
    "y_pred_class = (y_pred  >= threshold).astype(int)\n",
    "\n",
    "print(f'B0 intercept : {B0} \\nB1 slope : {B1}')\n",
    "print(f'Predicted probabilities: {y_pred}')\n",
    "print(f'Predicted classes: {y_pred_class}')"
   ]
  },
  {
   "cell_type": "markdown",
   "id": "db40499a",
   "metadata": {},
   "source": [
    "### Cost Function"
   ]
  },
  {
   "cell_type": "code",
   "execution_count": 6,
   "id": "b14a0de7",
   "metadata": {},
   "outputs": [
    {
     "name": "stdout",
     "output_type": "stream",
     "text": [
      "Cost:32.30586832322698\n"
     ]
    }
   ],
   "source": [
    "X = np.array([1, 2, 3, 4, 5])  \n",
    "y = np.array([0, 0, 0, 1, 1])\n",
    "\n",
    "def sigmoid(z):\n",
    "    return 1/(1+np.exp(-z))\n",
    "\n",
    "B0 = 0\n",
    "B1 = 0\n",
    "learning_rate=0.01\n",
    "threshold = 0.5\n",
    "n = len(X)\n",
    "epochs = 1000\n",
    "\n",
    "def cost_function(y,y_pred):\n",
    "    return -(1/n) * np.sum(y * np.log(y_pred) + (1 - y) * np.log(1 - y_pred))\n",
    "\n",
    "for epoch in range(epochs):\n",
    "    z = B0 + B1*X\n",
    "    y_pred = sigmoid(z)\n",
    "\n",
    "    gradient_b0 = (1/n) * np.sum(y-y_pred)\n",
    "    gradient_b1 = (1/n) * np.sum((y-y_pred)*X)\n",
    "\n",
    "    B0 -= learning_rate * gradient_b0\n",
    "    B1 -= learning_rate * gradient_b1\n",
    "\n",
    "    cost = cost_function(y,y_pred)\n",
    "\n",
    "print(f'Cost:{cost}')\n"
   ]
  },
  {
   "cell_type": "markdown",
   "id": "d30c57ff",
   "metadata": {},
   "source": [
    "### Naive Bayes"
   ]
  },
  {
   "cell_type": "code",
   "execution_count": 7,
   "id": "3668da13",
   "metadata": {},
   "outputs": [
    {
     "name": "stdout",
     "output_type": "stream",
     "text": [
      "Naive Bayes\n",
      "Predictions: [0, 0, 1, 1, 1]\n"
     ]
    }
   ],
   "source": [
    "X = np.array([[1.7, 2.5], [1.3, 2.8], [3.1, 1.8], [3.8, 2.5], [2.5, 3.1]]) \n",
    "y = np.array([0, 0, 1, 1, 1])  \n",
    "\n",
    "def mean_std_by_class(X, y):\n",
    "    classes = np.unique(y)\n",
    "    stats = {}\n",
    "    for cls in classes:\n",
    "        X_class = X[y == cls]\n",
    "        mean = np.mean(X_class, axis=0)\n",
    "        std = np.std(X_class, axis=0)\n",
    "        stats[cls] = (mean, std)\n",
    "    return stats\n",
    "\n",
    "def gaussian_pdf(x, mean, std):\n",
    "    return (1 / (np.sqrt(2 * np.pi) * std)) * np.exp(-((x - mean)**2 / (2 * std**2)))\n",
    "\n",
    "def predict(X, stats):\n",
    "    classes = stats.keys()\n",
    "    predictions = []\n",
    "    for x in X:\n",
    "        class_probs = {}\n",
    "        for cls in classes:\n",
    "            mean, std = stats[cls]\n",
    "            class_probs[cls] = np.prod(gaussian_pdf(x, mean, std))\n",
    "        predictions.append(max(class_probs, key=class_probs.get))\n",
    "    return predictions\n",
    "\n",
    "stats = mean_std_by_class(X, y)\n",
    "\n",
    "predictions = predict(X, stats)\n",
    "\n",
    "print(f'Naive Bayes\\nPredictions: {predictions}')"
   ]
  },
  {
   "cell_type": "code",
   "execution_count": null,
   "id": "ce92d75c",
   "metadata": {},
   "outputs": [],
   "source": []
  },
  {
   "cell_type": "code",
   "execution_count": null,
   "id": "820fe066",
   "metadata": {},
   "outputs": [],
   "source": []
  }
 ],
 "metadata": {
  "kernelspec": {
   "display_name": "Python 3 (ipykernel)",
   "language": "python",
   "name": "python3"
  },
  "language_info": {
   "codemirror_mode": {
    "name": "ipython",
    "version": 3
   },
   "file_extension": ".py",
   "mimetype": "text/x-python",
   "name": "python",
   "nbconvert_exporter": "python",
   "pygments_lexer": "ipython3",
   "version": "3.12.4"
  }
 },
 "nbformat": 4,
 "nbformat_minor": 5
}
