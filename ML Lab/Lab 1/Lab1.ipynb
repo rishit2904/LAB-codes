{
 "cells": [
  {
   "cell_type": "markdown",
   "id": "8422b00a",
   "metadata": {},
   "source": [
    "# Lab 1 - Numpy "
   ]
  },
  {
   "cell_type": "code",
   "execution_count": null,
   "id": "63135341",
   "metadata": {},
   "outputs": [],
   "source": [
    "import numpy as np"
   ]
  },
  {
   "cell_type": "markdown",
   "id": "a2332642",
   "metadata": {},
   "source": [
    "### Question 1"
   ]
  },
  {
   "cell_type": "code",
   "execution_count": 2,
   "id": "8131e957",
   "metadata": {},
   "outputs": [
    {
     "data": {
      "text/plain": [
       "array([[0, 1, 2],\n",
       "       [3, 4, 5],\n",
       "       [6, 7, 8]])"
      ]
     },
     "execution_count": 2,
     "metadata": {},
     "output_type": "execute_result"
    }
   ],
   "source": [
    "a=np.array([0, 1, 2, 3, 4, 5, 6, 7, 8])\n",
    "np.reshape(a,(3,3))"
   ]
  },
  {
   "cell_type": "markdown",
   "id": "c03c8b8d",
   "metadata": {},
   "source": [
    "### Question 2"
   ]
  },
  {
   "cell_type": "code",
   "execution_count": 3,
   "id": "37667f17",
   "metadata": {},
   "outputs": [
    {
     "data": {
      "text/plain": [
       "array([ 0, -1,  2, -1,  4, -1,  6, -1,  8])"
      ]
     },
     "execution_count": 3,
     "metadata": {},
     "output_type": "execute_result"
    }
   ],
   "source": [
    "a[a % 2 == 1] = -1\n",
    "a"
   ]
  },
  {
   "cell_type": "markdown",
   "id": "46a72a9e",
   "metadata": {},
   "source": [
    "### Question 3"
   ]
  },
  {
   "cell_type": "code",
   "execution_count": 4,
   "id": "64fd8f53",
   "metadata": {},
   "outputs": [
    {
     "name": "stdout",
     "output_type": "stream",
     "text": [
      "(array([1, 2, 4, 5, 6, 7, 8, 9]),)\n",
      "(array([0]),)\n"
     ]
    }
   ],
   "source": [
    "x = np.array([21, 64, 86, 22, 74, 55, 81, 79, 90, 89]) \n",
    "y = np.array([21, 7, 3, 45, 10, 29, 55, 4, 37, 18])\n",
    "\n",
    "print(np.where(x > y))\n",
    "print(np.where(x == y))"
   ]
  },
  {
   "cell_type": "markdown",
   "id": "1045525c",
   "metadata": {},
   "source": [
    "### Question 4"
   ]
  },
  {
   "cell_type": "code",
   "execution_count": 5,
   "id": "77cd62d2",
   "metadata": {},
   "outputs": [
    {
     "data": {
      "text/plain": [
       "array([[ 0,  1,  2,  3],\n",
       "       [20, 21, 22, 23],\n",
       "       [40, 41, 42, 43],\n",
       "       [60, 61, 62, 63],\n",
       "       [80, 81, 82, 83]])"
      ]
     },
     "execution_count": 5,
     "metadata": {},
     "output_type": "execute_result"
    }
   ],
   "source": [
    "m=np.arange(100).reshape(5,-1)\n",
    "m[:,:4]"
   ]
  },
  {
   "cell_type": "markdown",
   "id": "a8b3a599",
   "metadata": {},
   "source": [
    "# Additional Questions"
   ]
  },
  {
   "cell_type": "markdown",
   "id": "c4bdf444",
   "metadata": {},
   "source": [
    "### Question 1"
   ]
  },
  {
   "cell_type": "code",
   "execution_count": 7,
   "id": "ce51d19d",
   "metadata": {},
   "outputs": [
    {
     "data": {
      "text/plain": [
       "array([36, 37, 34, 39, 32, 32, 37, 37, 35, 35])"
      ]
     },
     "execution_count": 7,
     "metadata": {},
     "output_type": "execute_result"
    }
   ],
   "source": [
    "np.random.randint(30,41,size=10)"
   ]
  },
  {
   "cell_type": "markdown",
   "id": "c6a8b8e5",
   "metadata": {},
   "source": [
    "### Question 2"
   ]
  },
  {
   "cell_type": "code",
   "execution_count": 9,
   "id": "5e216785",
   "metadata": {},
   "outputs": [
    {
     "name": "stdout",
     "output_type": "stream",
     "text": [
      "[[ 8 10 13]\n",
      " [ 8 10 12]\n",
      " [ 8 10 13]]\n",
      "\n",
      "[[-6 -6 -7]\n",
      " [ 0  0  0]\n",
      " [ 6  6  7]]\n"
     ]
    }
   ],
   "source": [
    "matA= np.array ([[1, 2, 3], [4, 5, 6], [7, 8, 10]])\n",
    "matB= np.array ([[7, 8, 10] ,[4, 5, 6], [1, 2, 3]])\n",
    "\n",
    "matC=matA+matB\n",
    "print(matC)\n",
    "print()\n",
    "matE = matA-matB\n",
    "print(matE)\n"
   ]
  },
  {
   "cell_type": "code",
   "execution_count": 10,
   "id": "0ae68d51",
   "metadata": {},
   "outputs": [
    {
     "name": "stdout",
     "output_type": "stream",
     "text": [
      "Sum of all elements in matrix A: 16\n",
      "SUm of all column in matrix B: [12 15 19]\n",
      "Sum of all rows in matrix C: [31 30 31]\n"
     ]
    }
   ],
   "source": [
    "print(\"Sum of all elements in matrix A:\",np.sum(a))\n",
    "print(\"SUm of all column in matrix B:\",matB.sum(axis=0))\n",
    "print(\"Sum of all rows in matrix C:\",matC.sum(axis=1))"
   ]
  },
  {
   "cell_type": "code",
   "execution_count": 11,
   "id": "de3aa437",
   "metadata": {},
   "outputs": [
    {
     "data": {
      "text/plain": [
       "array([[ 7, 16, 30],\n",
       "       [16, 25, 36],\n",
       "       [ 7, 16, 30]])"
      ]
     },
     "execution_count": 11,
     "metadata": {},
     "output_type": "execute_result"
    }
   ],
   "source": [
    "matD=matA*matB\n",
    "matD"
   ]
  },
  {
   "cell_type": "code",
   "execution_count": 12,
   "id": "20a472b6",
   "metadata": {},
   "outputs": [
    {
     "data": {
      "text/plain": [
       "array([[ 8, 10, 13],\n",
       "       [ 8, 10, 12],\n",
       "       [ 8, 10, 13]])"
      ]
     },
     "execution_count": 12,
     "metadata": {},
     "output_type": "execute_result"
    }
   ],
   "source": [
    "matE=np.sort(matC,axis=1)\n",
    "matE"
   ]
  },
  {
   "cell_type": "code",
   "execution_count": 13,
   "id": "fd880b32",
   "metadata": {},
   "outputs": [
    {
     "data": {
      "text/plain": [
       "array([[ 8,  8,  8],\n",
       "       [10, 10, 10],\n",
       "       [13, 12, 13]])"
      ]
     },
     "execution_count": 13,
     "metadata": {},
     "output_type": "execute_result"
    }
   ],
   "source": [
    "matE.transpose()"
   ]
  }
 ],
 "metadata": {
  "kernelspec": {
   "display_name": "Python 3 (ipykernel)",
   "language": "python",
   "name": "python3"
  },
  "language_info": {
   "codemirror_mode": {
    "name": "ipython",
    "version": 3
   },
   "file_extension": ".py",
   "mimetype": "text/x-python",
   "name": "python",
   "nbconvert_exporter": "python",
   "pygments_lexer": "ipython3",
   "version": "3.12.3"
  }
 },
 "nbformat": 4,
 "nbformat_minor": 5
}
