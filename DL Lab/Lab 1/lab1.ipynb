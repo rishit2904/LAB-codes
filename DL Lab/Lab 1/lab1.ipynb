{
 "cells": [
  {
   "cell_type": "code",
   "execution_count": 1,
   "id": "7f60ed7f",
   "metadata": {},
   "outputs": [],
   "source": [
    "import torch\n",
    "import numpy as np"
   ]
  },
  {
   "cell_type": "code",
   "execution_count": 2,
   "id": "d23ffda4",
   "metadata": {},
   "outputs": [
    {
     "name": "stdout",
     "output_type": "stream",
     "text": [
      "Original Tensor:\n",
      " tensor([[ 1,  2,  3,  4],\n",
      "        [ 5,  6,  7,  8],\n",
      "        [ 9, 10, 11, 12],\n",
      "        [13, 14, 15, 16]])\n",
      "\n",
      "Reshaped Tensor:\n",
      " tensor([[ 1,  2,  3,  4,  5,  6,  7,  8],\n",
      "        [ 9, 10, 11, 12, 13, 14, 15, 16]])\n",
      "\n",
      "Viewed Tensor:\n",
      " tensor([[ 1,  2,  3,  4,  5,  6,  7,  8],\n",
      "        [ 9, 10, 11, 12, 13, 14, 15, 16]])\n",
      "\n",
      "Stacked Tensor:\n",
      " tensor([[[ 1,  2,  3,  4],\n",
      "         [ 5,  6,  7,  8],\n",
      "         [ 9, 10, 11, 12],\n",
      "         [13, 14, 15, 16]],\n",
      "\n",
      "        [[ 1,  2,  3,  4],\n",
      "         [ 5,  6,  7,  8],\n",
      "         [ 9, 10, 11, 12],\n",
      "         [13, 14, 15, 16]]])\n",
      "\n",
      "Squeezed Tensor:\n",
      " tensor([[ 1,  2,  3,  4],\n",
      "        [ 5,  6,  7,  8],\n",
      "        [ 9, 10, 11, 12],\n",
      "        [13, 14, 15, 16]])\n",
      "\n",
      "Unsqueezed Tensor:\n",
      " tensor([[[ 1,  2,  3,  4],\n",
      "         [ 5,  6,  7,  8],\n",
      "         [ 9, 10, 11, 12],\n",
      "         [13, 14, 15, 16]]])\n"
     ]
    }
   ],
   "source": [
    "tensor = torch.arange(1, 17).reshape(4, 4)\n",
    "\n",
    "reshaped = tensor.reshape(2, 8)\n",
    "viewed = tensor.view(2, 8)\n",
    "stacked = torch.stack((tensor, tensor), dim=0)\n",
    "squeezed = tensor.unsqueeze(0).squeeze()\n",
    "unsqueezed = tensor.unsqueeze(0)\n",
    "\n",
    "print(\"Original Tensor:\\n\", tensor)\n",
    "print(\"\\nReshaped Tensor:\\n\", reshaped)\n",
    "print(\"\\nViewed Tensor:\\n\", viewed)\n",
    "print(\"\\nStacked Tensor:\\n\", stacked)\n",
    "print(\"\\nSqueezed Tensor:\\n\", squeezed)\n",
    "print(\"\\nUnsqueezed Tensor:\\n\", unsqueezed)"
   ]
  },
  {
   "cell_type": "code",
   "execution_count": 3,
   "id": "a1233574",
   "metadata": {},
   "outputs": [
    {
     "name": "stdout",
     "output_type": "stream",
     "text": [
      "Permuted Tensor: tensor([[ 1,  5,  9, 13],\n",
      "        [ 2,  6, 10, 14],\n",
      "        [ 3,  7, 11, 15],\n",
      "        [ 4,  8, 12, 16]])\n"
     ]
    }
   ],
   "source": [
    "permuted = tensor.permute(1, 0)\n",
    "print(\"Permuted Tensor:\", permuted)"
   ]
  },
  {
   "cell_type": "code",
   "execution_count": 4,
   "id": "ebcf8f0e",
   "metadata": {},
   "outputs": [
    {
     "name": "stdout",
     "output_type": "stream",
     "text": [
      "Indexed Element: tensor(2)\n",
      "Row: tensor([5, 6, 7, 8])\n",
      "Column: tensor([ 3,  7, 11, 15])\n"
     ]
    }
   ],
   "source": [
    "indexed = tensor[0, 1] \n",
    "row = tensor[1]         \n",
    "col = tensor[:, 2]      \n",
    "\n",
    "print(\"Indexed Element:\", indexed)\n",
    "print(\"Row:\", row)\n",
    "print(\"Column:\", col)"
   ]
  },
  {
   "cell_type": "code",
   "execution_count": 5,
   "id": "f6a190d3",
   "metadata": {},
   "outputs": [
    {
     "name": "stdout",
     "output_type": "stream",
     "text": [
      "NumPy Array: [1 2 3]\n",
      "Tensor from NumPy: tensor([1, 2, 3])\n",
      "NumPy from Tensor: [1 2 3]\n"
     ]
    }
   ],
   "source": [
    "numpy_array = np.array([1, 2, 3])\n",
    "tensor_from_numpy = torch.from_numpy(numpy_array)\n",
    "\n",
    "numpy_from_tensor = tensor_from_numpy.numpy()\n",
    "\n",
    "print(\"NumPy Array:\", numpy_array)\n",
    "print(\"Tensor from NumPy:\", tensor_from_numpy)\n",
    "print(\"NumPy from Tensor:\", numpy_from_tensor)"
   ]
  },
  {
   "cell_type": "code",
   "execution_count": 6,
   "id": "3057b901",
   "metadata": {},
   "outputs": [
    {
     "name": "stdout",
     "output_type": "stream",
     "text": [
      "Random Tensor: tensor([[0.0928, 0.2787, 0.0177, 0.5718, 0.6479, 0.6901, 0.9447],\n",
      "        [0.7362, 0.0760, 0.9100, 0.3260, 0.6650, 0.6047, 0.1548],\n",
      "        [0.3910, 0.6988, 0.7486, 0.9873, 0.4095, 0.4843, 0.3843],\n",
      "        [0.8369, 0.4518, 0.6913, 0.9423, 0.5078, 0.5942, 0.4944],\n",
      "        [0.4591, 0.8336, 0.1157, 0.0501, 0.9595, 0.9439, 0.4257],\n",
      "        [0.1791, 0.3779, 0.1751, 0.3254, 0.1319, 0.2509, 0.6034],\n",
      "        [0.4898, 0.4924, 0.5131, 0.0672, 0.8044, 0.1328, 0.3356]])\n"
     ]
    }
   ],
   "source": [
    "random_tensor = torch.rand(7, 7)\n",
    "print(\"Random Tensor:\", random_tensor)"
   ]
  },
  {
   "cell_type": "code",
   "execution_count": 7,
   "id": "d442ad4f",
   "metadata": {},
   "outputs": [
    {
     "name": "stdout",
     "output_type": "stream",
     "text": [
      "Matrix Multiplication Result: tensor([[2.1117],\n",
      "        [2.5929],\n",
      "        [2.3468],\n",
      "        [2.7183],\n",
      "        [2.5394],\n",
      "        [1.1021],\n",
      "        [1.8749]])\n"
     ]
    }
   ],
   "source": [
    "tensor_a = random_tensor\n",
    "tensor_b = torch.rand(1, 7).T  \n",
    "\n",
    "result = torch.matmul(tensor_a, tensor_b)\n",
    "print(\"Matrix Multiplication Result:\", result)"
   ]
  },
  {
   "cell_type": "code",
   "execution_count": 8,
   "id": "99bd0b17",
   "metadata": {},
   "outputs": [
    {
     "name": "stdout",
     "output_type": "stream",
     "text": [
      "Tensor1 on GPU: tensor([[0.8439, 0.2841, 0.8534],\n",
      "        [0.0202, 0.8881, 0.4408]])\n",
      "Tensor2 on GPU: tensor([[0.1657, 0.3516, 0.7146],\n",
      "        [0.6101, 0.6235, 0.0638]])\n"
     ]
    },
    {
     "name": "stderr",
     "output_type": "stream",
     "text": [
      "/home/student/Documents/220962436_Keshav/dllab/lib/python3.12/site-packages/torch/cuda/__init__.py:129: UserWarning: CUDA initialization: The NVIDIA driver on your system is too old (found version 11040). Please update your GPU driver by downloading and installing a new version from the URL: http://www.nvidia.com/Download/index.aspx Alternatively, go to: https://pytorch.org to install a PyTorch version that has been compiled with your version of the CUDA driver. (Triggered internally at ../c10/cuda/CUDAFunctions.cpp:108.)\n",
      "  return torch._C._cuda_getDeviceCount() > 0\n"
     ]
    }
   ],
   "source": [
    "device = torch.device('cuda' if torch.cuda.is_available() else 'cpu')\n",
    "\n",
    "tensor1 = torch.rand(2, 3).to(device)\n",
    "tensor2 = torch.rand(2, 3).to(device)\n",
    "\n",
    "print(\"Tensor1 on GPU:\", tensor1)\n",
    "print(\"Tensor2 on GPU:\", tensor2)"
   ]
  },
  {
   "cell_type": "code",
   "execution_count": 9,
   "id": "1241943f",
   "metadata": {},
   "outputs": [
    {
     "name": "stdout",
     "output_type": "stream",
     "text": [
      "Matrix Multiplication on GPU: tensor([[0.1521, 0.3093, 0.6043],\n",
      "        [0.5890, 0.6536, 0.2597],\n",
      "        [0.4103, 0.5749, 0.6380]])\n"
     ]
    }
   ],
   "source": [
    "tensor1 = tensor1.T \n",
    "\n",
    "result_gpu = torch.matmul(tensor1, tensor2)  \n",
    "print(\"Matrix Multiplication on GPU:\", result_gpu)"
   ]
  },
  {
   "cell_type": "code",
   "execution_count": 10,
   "id": "69733e1a",
   "metadata": {},
   "outputs": [
    {
     "name": "stdout",
     "output_type": "stream",
     "text": [
      "Max Value: tensor(0.6536)\n",
      "Min Value: tensor(0.1521)\n"
     ]
    }
   ],
   "source": [
    "max_value = result_gpu.max()\n",
    "min_value = result_gpu.min()\n",
    "\n",
    "print(\"Max Value:\", max_value)\n",
    "print(\"Min Value:\", min_value)"
   ]
  },
  {
   "cell_type": "code",
   "execution_count": 11,
   "id": "abd1ff66",
   "metadata": {},
   "outputs": [
    {
     "name": "stdout",
     "output_type": "stream",
     "text": [
      "Max Index: tensor(4)\n",
      "Min Index: tensor(0)\n"
     ]
    }
   ],
   "source": [
    "max_index = result_gpu.argmax()\n",
    "min_index = result_gpu.argmin()\n",
    "\n",
    "print(\"Max Index:\", max_index)\n",
    "print(\"Min Index:\", min_index)"
   ]
  },
  {
   "cell_type": "code",
   "execution_count": 12,
   "id": "64e7f34c",
   "metadata": {},
   "outputs": [
    {
     "name": "stdout",
     "output_type": "stream",
     "text": [
      "Original Tensor Shape: torch.Size([1, 1, 1, 10])\n",
      "Reshaped Tensor Shape: torch.Size([10])\n",
      "Original Tensor: tensor([[[[0.5349, 0.1988, 0.6592, 0.6569, 0.2328, 0.4251, 0.2071, 0.6297,\n",
      "           0.3653, 0.8513]]]])\n",
      "Reshaped Tensor: tensor([0.5349, 0.1988, 0.6592, 0.6569, 0.2328, 0.4251, 0.2071, 0.6297, 0.3653,\n",
      "        0.8513])\n"
     ]
    }
   ],
   "source": [
    "torch.manual_seed(7)\n",
    "\n",
    "tensor3 = torch.rand(1, 1, 1, 10)\n",
    "\n",
    "reshaped_tensor = tensor3.squeeze()\n",
    "\n",
    "print(\"Original Tensor Shape:\", tensor3.shape)\n",
    "print(\"Reshaped Tensor Shape:\", reshaped_tensor.shape)\n",
    "print(\"Original Tensor:\", tensor3)\n",
    "print(\"Reshaped Tensor:\", reshaped_tensor)"
   ]
  },
  {
   "cell_type": "code",
   "execution_count": null,
   "id": "2b1b7baf",
   "metadata": {},
   "outputs": [],
   "source": []
  },
  {
   "cell_type": "code",
   "execution_count": null,
   "id": "52cc2623",
   "metadata": {},
   "outputs": [],
   "source": []
  },
  {
   "cell_type": "code",
   "execution_count": null,
   "id": "6366722c",
   "metadata": {},
   "outputs": [],
   "source": []
  }
 ],
 "metadata": {
  "kernelspec": {
   "display_name": "dllab",
   "language": "python",
   "name": "python3"
  },
  "language_info": {
   "codemirror_mode": {
    "name": "ipython",
    "version": 3
   },
   "file_extension": ".py",
   "mimetype": "text/x-python",
   "name": "python",
   "nbconvert_exporter": "python",
   "pygments_lexer": "ipython3",
   "version": "3.12.3"
  }
 },
 "nbformat": 4,
 "nbformat_minor": 5
}
