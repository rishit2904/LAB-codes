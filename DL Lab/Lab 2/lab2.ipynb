{
 "cells": [
  {
   "cell_type": "code",
   "execution_count": 14,
   "metadata": {},
   "outputs": [],
   "source": [
    "import torch\n",
    "import numpy as np"
   ]
  },
  {
   "cell_type": "markdown",
   "metadata": {},
   "source": [
    "Question 1"
   ]
  },
  {
   "cell_type": "code",
   "execution_count": 16,
   "metadata": {},
   "outputs": [
    {
     "name": "stdout",
     "output_type": "stream",
     "text": [
      "  Analytical: 34.0\n",
      "  PyTorch: 34.0\n"
     ]
    }
   ],
   "source": [
    "def compute_gradients_q1():\n",
    "    a, b = torch.tensor(1.0, requires_grad=True), torch.tensor(2.0, requires_grad=True)  # Example values\n",
    "    x = 2 * a + 3 * b\n",
    "    y = 5 * a * a + 3 * b * b * b\n",
    "    z = 2 * x + 3 * y\n",
    "\n",
    "    dz_da_analytical = 2 * (2) + 3 * (2 * 5 * a)\n",
    "\n",
    "    z.backward()\n",
    "    dz_da_pytorch = a.grad\n",
    "\n",
    "    return dz_da_analytical, dz_da_pytorch\n",
    "\n",
    "dz_da_analytical, dz_da_pytorch = compute_gradients_q1()\n",
    "print(f\"  Analytical: {dz_da_analytical}\")\n",
    "print(f\"  PyTorch: {dz_da_pytorch}\")"
   ]
  },
  {
   "cell_type": "markdown",
   "metadata": {},
   "source": [
    "Question 2"
   ]
  },
  {
   "cell_type": "code",
   "execution_count": 17,
   "metadata": {},
   "outputs": [
    {
     "name": "stdout",
     "output_type": "stream",
     "text": [
      "  Analytical: 2.0\n",
      "  PyTorch: 2.0\n"
     ]
    }
   ],
   "source": [
    "def compute_gradients_q2_relu():\n",
    "    w = torch.tensor(1.0, requires_grad=True)\n",
    "    x, b = torch.tensor(2.0), torch.tensor(3.0)  \n",
    "    u = w * x\n",
    "    v = u + b\n",
    "    a = F.relu(v)\n",
    "\n",
    "    da_dw_analytical = x if v > 0 else 0\n",
    "\n",
    "    a.backward()\n",
    "    da_dw_pytorch = w.grad\n",
    "\n",
    "    return da_dw_analytical, da_dw_pytorch\n",
    "\n",
    "da_dw_analytical, da_dw_pytorch = compute_gradients_q2_relu()\n",
    "print(f\"  Analytical: {da_dw_analytical}\")\n",
    "print(f\"  PyTorch: {da_dw_pytorch}\")"
   ]
  },
  {
   "cell_type": "markdown",
   "metadata": {},
   "source": [
    "Question 3"
   ]
  },
  {
   "cell_type": "code",
   "execution_count": 18,
   "metadata": {},
   "outputs": [
    {
     "name": "stdout",
     "output_type": "stream",
     "text": [
      "  Analytical: 0.013296113341580066\n",
      "  PyTorch: 0.013296065852046013\n"
     ]
    }
   ],
   "source": [
    "def compute_gradients_q3_sigmoid():\n",
    "    sigmoid = lambda x: 1 / (1 + np.exp(-x))\n",
    "\n",
    "    w = torch.tensor(1.0, requires_grad=True)\n",
    "    x, b = torch.tensor(2.0), torch.tensor(3.0)  \n",
    "    u = w * x\n",
    "    v = u + b\n",
    "    a = torch.sigmoid(v)\n",
    "\n",
    "    a_sigmoid = sigmoid(v.item())\n",
    "    da_dw_analytical = a_sigmoid * (1 - a_sigmoid) * x.item()\n",
    "\n",
    "    a.backward()\n",
    "    da_dw_pytorch = w.grad\n",
    "\n",
    "    return da_dw_analytical, da_dw_pytorch\n",
    "\n",
    "da_dw_analytical, da_dw_pytorch = compute_gradients_q3_sigmoid()\n",
    "print(f\"  Analytical: {da_dw_analytical}\")\n",
    "print(f\"  PyTorch: {da_dw_pytorch}\")"
   ]
  },
  {
   "cell_type": "markdown",
   "metadata": {},
   "source": [
    "Question 4"
   ]
  },
  {
   "cell_type": "code",
   "execution_count": 19,
   "metadata": {},
   "outputs": [
    {
     "name": "stdout",
     "output_type": "stream",
     "text": [
      "  Analytical: -0.09744400540415654\n",
      "  PyTorch: -0.09744400531053543\n"
     ]
    }
   ],
   "source": [
    "def compute_gradients_q4():\n",
    "    x = torch.tensor(1.0, requires_grad=True)\n",
    "    f = torch.exp(-x**2 - 2 * x - torch.sin(x))\n",
    "\n",
    "    f_analytical = f.item()  \n",
    "    df_dx_analytical = -f_analytical * (2 * x + 2 + torch.cos(x)).item()\n",
    "\n",
    "    f.backward()\n",
    "    df_dx_pytorch = x.grad\n",
    "\n",
    "    return df_dx_analytical, df_dx_pytorch\n",
    "\n",
    "df_dx_analytical, df_dx_pytorch = compute_gradients_q4()\n",
    "print(f\"  Analytical: {df_dx_analytical}\")\n",
    "print(f\"  PyTorch: {df_dx_pytorch}\")"
   ]
  },
  {
   "cell_type": "markdown",
   "metadata": {},
   "source": [
    "Question 5"
   ]
  },
  {
   "cell_type": "code",
   "execution_count": 21,
   "metadata": {},
   "outputs": [
    {
     "name": "stdout",
     "output_type": "stream",
     "text": [
      "Analytical gradient: 326.0\n",
      "PyTorch gradient: 326.0\n"
     ]
    }
   ],
   "source": [
    "def compute_gradient_q5():\n",
    "    x = torch.tensor(2.0, requires_grad=True)\n",
    "    y = 8 * x**4 + 3 * x**3 + 7 * x**2 + 6 * x + 3\n",
    "\n",
    "    y.backward()\n",
    "    dy_dx_pytorch = x.grad\n",
    "    dy_dx_analytical = 32 * x**3 + 9 * x**2 + 14 * x + 6\n",
    "\n",
    "    return dy_dx_analytical.item(), dy_dx_pytorch.item()\n",
    "\n",
    "dy_dx_analytical, dy_dx_pytorch = compute_gradient_q5()\n",
    "print(f\"Analytical gradient: {dy_dx_analytical}\")\n",
    "print(f\"PyTorch gradient: {dy_dx_pytorch}\")"
   ]
  },
  {
   "cell_type": "markdown",
   "metadata": {},
   "source": [
    "Question 6"
   ]
  },
  {
   "cell_type": "code",
   "execution_count": 23,
   "metadata": {},
   "outputs": [
    {
     "name": "stdout",
     "output_type": "stream",
     "text": [
      "The gradient of y with respect to x at x = 2.0 is 326.0\n"
     ]
    }
   ],
   "source": [
    "x = torch.tensor(2.0, requires_grad=True)\n",
    "\n",
    "y = 8 * x**4 + 3 * x**3 + 7 * x**2 + 6 * x + 3\n",
    "\n",
    "y.backward()\n",
    "dy_dx = x.grad\n",
    "\n",
    "print(f\"The gradient of y with respect to x at x = {x.item()} is {dy_dx.item()}\")"
   ]
  }
 ],
 "metadata": {
  "kernelspec": {
   "display_name": "dllab",
   "language": "python",
   "name": "python3"
  },
  "language_info": {
   "codemirror_mode": {
    "name": "ipython",
    "version": 3
   },
   "file_extension": ".py",
   "mimetype": "text/x-python",
   "name": "python",
   "nbconvert_exporter": "python",
   "pygments_lexer": "ipython3",
   "version": "3.12.3"
  }
 },
 "nbformat": 4,
 "nbformat_minor": 2
}
